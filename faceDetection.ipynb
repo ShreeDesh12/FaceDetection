{
 "cells": [
  {
   "cell_type": "code",
   "execution_count": null,
   "metadata": {},
   "outputs": [],
   "source": [
    "import cv2\n",
    "import numpy as np\n",
    "\n",
    "cap = cv2.VideoCapture(0);\n",
    "face_cascade = cv2.CascadeClassifier('haarcascade_frontalface_alt.xml')\n",
    "skip = 0\n",
    "count = 0\n",
    "facedata = []\n",
    "datapath = './'\n",
    "filename = input('Name of the person : ')\n",
    "while True:\n",
    "    ret, frame = cap.read()\n",
    "    \n",
    "    if ret == False:\n",
    "        continue\n",
    "    skip+=1\n",
    "    gray = cv2.cvtColor(frame,cv2.COLOR_BGR2GRAY)\n",
    "    \n",
    "    \n",
    "    faces = face_cascade.detectMultiScale(frame,1.3,5)\n",
    "    \n",
    "    faces = sorted(faces , key = lambda f: f[2]*f[3],reverse = True)\n",
    "    for face in faces[0:1]:\n",
    "        x,y,w,h = face\n",
    "        cv2.rectangle(frame,(x,y),(x+w,y+h),(0,255,255),2)\n",
    "        \n",
    "        offset = 10\n",
    "        face_section = frame[y-offset:y+h+offset,x-offset:x+w+offset] \n",
    "        face_section = cv2.resize(face_section,(100,100))\n",
    "        \n",
    "        if skip%10 == 0:\n",
    "            #count signifies the no. of images taken\n",
    "            count+=1\n",
    "            print(count)\n",
    "            facedata.append(face_section)\n",
    "    #remove the comment to see whats it capturing\n",
    "    #cv2.imshow('face_section',face_section)\n",
    "    cv2.imshow('Webcam',frame)\n",
    "    \n",
    "    \n",
    "    key_pressed = cv2.waitKey(1) & 0XFF\n",
    "    if(key_pressed == ord('q')):\n",
    "        break\n",
    "        \n",
    "facedata = np.asarray(facedata)\n",
    "facedata = facedata.reshape((facedata.shape[0],-1))\n",
    "\n",
    "# saving data\n",
    "np.save(datapath + filename + '.npy',facedata)\n",
    "\n",
    "\n",
    "cap.release()\n",
    "cv2.destroyAllWindows()"
   ]
  }
 ],
 "metadata": {
  "kernelspec": {
   "display_name": "Python 3",
   "language": "python",
   "name": "python3"
  },
  "language_info": {
   "codemirror_mode": {
    "name": "ipython",
    "version": 3
   },
   "file_extension": ".py",
   "mimetype": "text/x-python",
   "name": "python",
   "nbconvert_exporter": "python",
   "pygments_lexer": "ipython3",
   "version": "3.7.6"
  }
 },
 "nbformat": 4,
 "nbformat_minor": 4
}